{
 "cells": [
  {
   "cell_type": "code",
   "execution_count": 7,
   "metadata": {},
   "outputs": [],
   "source": [
    "import matplotlib.pyplot as plt\n",
    "import matplotlib as mpl\n",
    "mpl.rcParams['figure.dpi'] = 100"
   ]
  },
  {
   "cell_type": "code",
   "execution_count": 8,
   "metadata": {},
   "outputs": [],
   "source": [
    "class Pitch():\n",
    "\n",
    "    def __init__(self, width, height, pitchcolor, linecolor):\n",
    "        self.width = width\n",
    "        self.height = height\n",
    "        self.pitchcolor = pitchcolor\n",
    "        self.linecolor = linecolor\n",
    "\n",
    "    def draw_pitch(self):\n",
    "        self.fig, self.ax = plt.subplots(figsize=(self.width / 10, self.height / 10))\n",
    "        self.ax.axis('off')\n",
    "        #fig.set_facecolor('green')\n",
    "\n",
    "        # Outer pitch\n",
    "        self.ax.plot([0, self.width], [0, 0], color=self.linecolor, zorder=5)\n",
    "        self.ax.plot([0, self.width], [self.height, self.height], color=self.linecolor, zorder=5)\n",
    "        self.ax.plot([0, 0], [0, self.height], color=self.linecolor, zorder=5)\n",
    "        self.ax.plot([self.width, self.width], [0, self.height], color=self.linecolor, zorder=5)\n",
    "\n",
    "        # Outer box\n",
    "        ly2 = [13.84,13.84,54.16,54.16] \n",
    "        lx2 = [104,87.5,87.5,104]\n",
    "        self.ax.plot(lx2,ly2,color=self.linecolor,zorder=5)\n",
    "        ly3 = [13.84,13.84,54.16,54.16] \n",
    "        lx3 = [0,16.5,16.5,0]\n",
    "        self.ax.plot(lx3,ly3,color=self.linecolor,zorder=5)\n",
    "\n",
    "        # Goals\n",
    "        ly4 = [30.34,30.34,37.66,37.66]\n",
    "        lx4 = [104,104.2,104.2,104]\n",
    "        self.ax.plot(lx4,ly4,color=self.linecolor,zorder=5)\n",
    "        ly5 = [30.34,30.34,37.66,37.66]\n",
    "        lx5 = [0,-0.2,-0.2,0]\n",
    "        self.ax.plot(lx5,ly5,color=self.linecolor,zorder=5)\n",
    "\n",
    "        # 6 yard boxes\n",
    "        ly6 = [24.84,24.84,43.16,43.16]\n",
    "        lx6 = [104,99.5,99.5,104]\n",
    "        self.ax.plot(lx6,ly6,color=self.linecolor,zorder=5)\n",
    "        ly7 = [24.84,24.84,43.16,43.16]\n",
    "        lx7 = [0,4.5,4.5,0]\n",
    "        self.ax.plot(lx7,ly7,color=self.linecolor,zorder=5)\n",
    "\n",
    "        # Halfway line, penalty spots, and kickoff spot\n",
    "        vcy5 = [0,68] \n",
    "        vcx5 = [52,52]\n",
    "        self.ax.plot(vcx5,vcy5,color=self.linecolor,zorder=5)\n",
    "        self.ax.scatter(93,34,color=self.linecolor,zorder=5)\n",
    "        self.ax.scatter(11,34,color=self.linecolor,zorder=5)\n",
    "        self.ax.scatter(52,34,color=self.linecolor,zorder=5)\n",
    "\n",
    "        # Circles\n",
    "        circle1 = plt.Circle((93.5,34), 9.15,ls='solid',lw=1.5,color=self.linecolor, fill=False, zorder=4,alpha=1)\n",
    "        circle2 = plt.Circle((10.5,34), 9.15,ls='solid',lw=1.5,color=self.linecolor, fill=False, zorder=4,alpha=1)\n",
    "        circle3 = plt.Circle((52, 34), 9.15,ls='solid',lw=1.5,color=self.linecolor, fill=False, zorder=4,alpha=1)\n",
    "        rec1 = plt.Rectangle((87.5,20), 16,30,ls='-',color=self.pitchcolor, zorder=4,alpha=1)\n",
    "        rec2 = plt.Rectangle((0, 20), 16.5,30,ls='-',color=self.pitchcolor, zorder=4,alpha=1)\n",
    "        rec3 = plt.Rectangle((-1,-1), 106,70,color=self.pitchcolor, zorder=4,alpha=1)\n",
    "        self.ax.add_artist(rec3)\n",
    "        self.ax.add_artist(circle1)\n",
    "        self.ax.add_artist(circle2)\n",
    "        self.ax.add_artist(rec1)\n",
    "        self.ax.add_artist(rec2)\n",
    "        self.ax.add_artist(circle3)"
   ]
  },
  {
   "cell_type": "code",
   "execution_count": 9,
   "metadata": {},
   "outputs": [],
   "source": [
    "HEIGHT = 68\n",
    "WIDTH = 104\n",
    "PITCHCOLOR = '#acdf87'\n",
    "LINECOLOR = '#ffffff'"
   ]
  },
  {
   "cell_type": "code",
   "execution_count": 16,
   "metadata": {},
   "outputs": [
    {
     "data": {
      "image/png": "[encoded data removed]",
      "text/plain": [
       "<Figure size 1040x680 with 1 Axes>"
      ]
     },
     "metadata": {
      "needs_background": "light"
     },
     "output_type": "display_data"
    }
   ],
   "source": [
    "pitch = Pitch(WIDTH, HEIGHT, PITCHCOLOR, LINECOLOR)\n",
    "pitch.draw_pitch()\n",
    "coords = []\n",
    "def onclick(event):\n",
    "    global ix, iy\n",
    "    ix, iy = event.xdata, event.ydata\n",
    "    print(f'x = {ix}, y = {iy}')\n",
    "    \n",
    "    global coords\n",
    "    coords.append((ix, iy))\n",
    "    \n",
    "    if len(coords) == 2:\n",
    "        pitch.fig.canvas.mpl_disconnect(cid)\n",
    "    return cid\n",
    "cid = pitch.fig.canvas.mpl_connect('button_press_event', onclick)\n"
   ]
  },
  {
   "cell_type": "code",
   "execution_count": 11,
   "metadata": {},
   "outputs": [],
   "source": []
  },
  {
   "cell_type": "code",
   "execution_count": 13,
   "metadata": {},
   "outputs": [],
   "source": [
    "plt.show()"
   ]
  },
  {
   "cell_type": "code",
   "execution_count": null,
   "metadata": {},
   "outputs": [],
   "source": []
  }
 ],
 "metadata": {
  "kernelspec": {
   "display_name": "Python 3",
   "language": "python",
   "name": "python3"
  },
  "language_info": {
   "codemirror_mode": {
    "name": "ipython",
    "version": 3
   },
   "file_extension": ".py",
   "mimetype": "text/x-python",
   "name": "python",
   "nbconvert_exporter": "python",
   "pygments_lexer": "ipython3",
   "version": "3.8.3"
  }
 },
 "nbformat": 4,
 "nbformat_minor": 4
}
