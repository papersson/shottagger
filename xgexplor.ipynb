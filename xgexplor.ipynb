{
 "cells": [
  {
   "cell_type": "markdown",
   "metadata": {},
   "source": [
    "# xG data exploration"
   ]
  },
  {
   "cell_type": "code",
   "execution_count": 1,
   "metadata": {},
   "outputs": [],
   "source": [
    "import json\n",
    "import pandas as pd\n",
    "import numpy as np\n",
    "import matplotlib.pyplot as plt\n",
    "from tqdm import tqdm\n",
    "\n",
    "pd.set_option('display.max_columns', None)"
   ]
  },
  {
   "cell_type": "markdown",
   "metadata": {},
   "source": [
    "## Data preparation"
   ]
  },
  {
   "cell_type": "code",
   "execution_count": 2,
   "metadata": {},
   "outputs": [],
   "source": [
    "shots = pd.read_feather('shots.ftr')"
   ]
  },
  {
   "cell_type": "code",
   "execution_count": 3,
   "metadata": {},
   "outputs": [],
   "source": [
    "# COMP_ID = 11\n",
    "# \n",
    "# season_ids = !ls statsbomb/data/matches/11\n",
    "# season_ids = [x.split('.')[0] for x in matches]\n",
    "# \n",
    "# match_ids = []\n",
    "# for season_id in season_ids:\n",
    "#     with open(f'statsbomb/data/matches/{COMP_ID}/{season_id}.json') as f:\n",
    "#         data = json.load(f)\n",
    "#     match_ids += [row['match_id'] for row in data]"
   ]
  },
  {
   "cell_type": "code",
   "execution_count": 4,
   "metadata": {},
   "outputs": [],
   "source": [
    "# dfs = []\n",
    "# for match_id in tqdm(match_ids):\n",
    "#     with open(f'statsbomb/data/events/{match_id}.json') as f:\n",
    "#         df = pd.json_normalize(json.loads(f.read()), sep='_')\n",
    "#     dfs.append(df)\n",
    "# df = pd.concat(dfs, sort=False)\n",
    "# df.reset_index(drop=True, inplace=True)\n",
    "# df.to_csv('df.csv')\n",
    "# print('lol')"
   ]
  },
  {
   "cell_type": "code",
   "execution_count": 5,
   "metadata": {
    "scrolled": true
   },
   "outputs": [],
   "source": [
    "# shots = df.query('type_name == \"Shot\"')"
   ]
  },
  {
   "cell_type": "code",
   "execution_count": 6,
   "metadata": {},
   "outputs": [],
   "source": [
    "pd.options.mode.chained_assignment = None\n",
    "def parse_shots(shots):\n",
    "    columns = ['x', 'y', 'head', 'phase', 'statsbombxg', 'outcome']\n",
    "    \n",
    "    shots['head'] = 1 * (shots.shot_body_part_name == 'Head')\n",
    "    shots[['x', 'y']] = pd.DataFrame(shots.location.to_list(), index=shots.index)\n",
    "    shots.x = (shots.x / 120 * 105).astype(int)\n",
    "    shots.y = (shots.y / 80 * 68).astype(int)\n",
    "    #pd.DataFrame(features.location.to_list(), index=features.index)\n",
    "    \n",
    "    shots['phase'] = shots.shot_type_name\n",
    "    shots['statsbombxg'] = shots.shot_statsbomb_xg\n",
    "    shots['outcome'] = 1 * (shots.shot_outcome_name == 'Goal')\n",
    "    \n",
    "    shots.drop(shots.columns.difference(columns), axis=1, inplace=True)\n",
    "    shots = shots[shots.phase == 'Open Play']\n",
    "    shots.reset_index(drop=True, inplace=True)\n",
    "    \n",
    "    return shots"
   ]
  },
  {
   "cell_type": "code",
   "execution_count": 7,
   "metadata": {},
   "outputs": [],
   "source": [
    "shots = parse_shots(shots)"
   ]
  },
  {
   "cell_type": "code",
   "execution_count": 8,
   "metadata": {},
   "outputs": [],
   "source": [
    "def distance_to_goal(origin):\n",
    "    dest = np.array([105., 34.])\n",
    "    return np.sqrt(np.sum((origin - dest) ** 2))\n",
    "\n",
    "def goal_angle(origin):\n",
    "    p0 = np.array((105., 34 - 7.32 / 2))  # Left Post\n",
    "    p1 = np.array(origin, dtype=np.float)\n",
    "    p2 = np.array((105., 34 + 7.32 / 2))  # Right Post\n",
    "\n",
    "    v0 = p0 - p1\n",
    "    v1 = p2 - p1\n",
    "\n",
    "    angle = np.abs(np.math.atan2(np.linalg.det([v0, v1]), np.dot(v0, v1)))\n",
    "    \n",
    "    return angle\n",
    "\n",
    "shots['distance_to_goal'] = shots.apply(lambda row: distance_to_goal(row[['x', 'y']]), axis=1)\n",
    "shots['goal_angle'] = shots.apply(lambda r: goal_angle(r[['x', 'y']]), axis=1)\n",
    "shots['logdist'] = np.log(shots.distance_to_goal)\n",
    "shots['logangle'] = np.log(shots.goal_angle)"
   ]
  },
  {
   "cell_type": "code",
   "execution_count": 9,
   "metadata": {},
   "outputs": [],
   "source": [
    "#shots.hist(bins=50, figsize=(20, 12))"
   ]
  },
  {
   "cell_type": "code",
   "execution_count": 10,
   "metadata": {},
   "outputs": [
    {
     "data": {
      "text/html": [
       "<div>\n",
       "<style scoped>\n",
       "    .dataframe tbody tr th:only-of-type {\n",
       "        vertical-align: middle;\n",
       "    }\n",
       "\n",
       "    .dataframe tbody tr th {\n",
       "        vertical-align: top;\n",
       "    }\n",
       "\n",
       "    .dataframe thead th {\n",
       "        text-align: right;\n",
       "    }\n",
       "</style>\n",
       "<table border=\"1\" class=\"dataframe\">\n",
       "  <thead>\n",
       "    <tr style=\"text-align: right;\">\n",
       "      <th></th>\n",
       "      <th>head</th>\n",
       "      <th>x</th>\n",
       "      <th>y</th>\n",
       "      <th>phase</th>\n",
       "      <th>statsbombxg</th>\n",
       "      <th>outcome</th>\n",
       "      <th>distance_to_goal</th>\n",
       "      <th>goal_angle</th>\n",
       "      <th>logdist</th>\n",
       "      <th>logangle</th>\n",
       "    </tr>\n",
       "  </thead>\n",
       "  <tbody>\n",
       "    <tr>\n",
       "      <th>0</th>\n",
       "      <td>0</td>\n",
       "      <td>92</td>\n",
       "      <td>49</td>\n",
       "      <td>Open Play</td>\n",
       "      <td>0.026399</td>\n",
       "      <td>0</td>\n",
       "      <td>19.849433</td>\n",
       "      <td>0.245001</td>\n",
       "      <td>2.988175</td>\n",
       "      <td>-1.406494</td>\n",
       "    </tr>\n",
       "    <tr>\n",
       "      <th>1</th>\n",
       "      <td>0</td>\n",
       "      <td>96</td>\n",
       "      <td>33</td>\n",
       "      <td>Open Play</td>\n",
       "      <td>0.484256</td>\n",
       "      <td>1</td>\n",
       "      <td>9.055385</td>\n",
       "      <td>0.765143</td>\n",
       "      <td>2.203360</td>\n",
       "      <td>-0.267693</td>\n",
       "    </tr>\n",
       "    <tr>\n",
       "      <th>2</th>\n",
       "      <td>0</td>\n",
       "      <td>92</td>\n",
       "      <td>33</td>\n",
       "      <td>Open Play</td>\n",
       "      <td>0.334151</td>\n",
       "      <td>0</td>\n",
       "      <td>13.038405</td>\n",
       "      <td>0.546022</td>\n",
       "      <td>2.567899</td>\n",
       "      <td>-0.605095</td>\n",
       "    </tr>\n",
       "    <tr>\n",
       "      <th>3</th>\n",
       "      <td>0</td>\n",
       "      <td>100</td>\n",
       "      <td>41</td>\n",
       "      <td>Open Play</td>\n",
       "      <td>0.113160</td>\n",
       "      <td>0</td>\n",
       "      <td>8.602325</td>\n",
       "      <td>0.543294</td>\n",
       "      <td>2.152033</td>\n",
       "      <td>-0.610104</td>\n",
       "    </tr>\n",
       "    <tr>\n",
       "      <th>4</th>\n",
       "      <td>1</td>\n",
       "      <td>97</td>\n",
       "      <td>34</td>\n",
       "      <td>Open Play</td>\n",
       "      <td>0.159821</td>\n",
       "      <td>0</td>\n",
       "      <td>8.000000</td>\n",
       "      <td>0.858147</td>\n",
       "      <td>2.079442</td>\n",
       "      <td>-0.152980</td>\n",
       "    </tr>\n",
       "    <tr>\n",
       "      <th>...</th>\n",
       "      <td>...</td>\n",
       "      <td>...</td>\n",
       "      <td>...</td>\n",
       "      <td>...</td>\n",
       "      <td>...</td>\n",
       "      <td>...</td>\n",
       "      <td>...</td>\n",
       "      <td>...</td>\n",
       "      <td>...</td>\n",
       "      <td>...</td>\n",
       "    </tr>\n",
       "    <tr>\n",
       "      <th>10927</th>\n",
       "      <td>1</td>\n",
       "      <td>100</td>\n",
       "      <td>26</td>\n",
       "      <td>Open Play</td>\n",
       "      <td>0.063692</td>\n",
       "      <td>0</td>\n",
       "      <td>9.433981</td>\n",
       "      <td>0.450846</td>\n",
       "      <td>2.244318</td>\n",
       "      <td>-0.796630</td>\n",
       "    </tr>\n",
       "    <tr>\n",
       "      <th>10928</th>\n",
       "      <td>0</td>\n",
       "      <td>93</td>\n",
       "      <td>22</td>\n",
       "      <td>Open Play</td>\n",
       "      <td>0.050016</td>\n",
       "      <td>0</td>\n",
       "      <td>16.970563</td>\n",
       "      <td>0.309593</td>\n",
       "      <td>2.831480</td>\n",
       "      <td>-1.172498</td>\n",
       "    </tr>\n",
       "    <tr>\n",
       "      <th>10929</th>\n",
       "      <td>0</td>\n",
       "      <td>89</td>\n",
       "      <td>39</td>\n",
       "      <td>Open Play</td>\n",
       "      <td>0.034740</td>\n",
       "      <td>0</td>\n",
       "      <td>16.763055</td>\n",
       "      <td>0.412546</td>\n",
       "      <td>2.819177</td>\n",
       "      <td>-0.885409</td>\n",
       "    </tr>\n",
       "    <tr>\n",
       "      <th>10930</th>\n",
       "      <td>0</td>\n",
       "      <td>88</td>\n",
       "      <td>52</td>\n",
       "      <td>Open Play</td>\n",
       "      <td>0.010457</td>\n",
       "      <td>0</td>\n",
       "      <td>24.758837</td>\n",
       "      <td>0.204632</td>\n",
       "      <td>3.209182</td>\n",
       "      <td>-1.586543</td>\n",
       "    </tr>\n",
       "    <tr>\n",
       "      <th>10931</th>\n",
       "      <td>0</td>\n",
       "      <td>82</td>\n",
       "      <td>24</td>\n",
       "      <td>Open Play</td>\n",
       "      <td>0.022750</td>\n",
       "      <td>0</td>\n",
       "      <td>25.079872</td>\n",
       "      <td>0.266959</td>\n",
       "      <td>3.222066</td>\n",
       "      <td>-1.320659</td>\n",
       "    </tr>\n",
       "  </tbody>\n",
       "</table>\n",
       "<p>10932 rows × 10 columns</p>\n",
       "</div>"
      ],
      "text/plain": [
       "       head    x   y      phase  statsbombxg  outcome  distance_to_goal  \\\n",
       "0         0   92  49  Open Play     0.026399        0         19.849433   \n",
       "1         0   96  33  Open Play     0.484256        1          9.055385   \n",
       "2         0   92  33  Open Play     0.334151        0         13.038405   \n",
       "3         0  100  41  Open Play     0.113160        0          8.602325   \n",
       "4         1   97  34  Open Play     0.159821        0          8.000000   \n",
       "...     ...  ...  ..        ...          ...      ...               ...   \n",
       "10927     1  100  26  Open Play     0.063692        0          9.433981   \n",
       "10928     0   93  22  Open Play     0.050016        0         16.970563   \n",
       "10929     0   89  39  Open Play     0.034740        0         16.763055   \n",
       "10930     0   88  52  Open Play     0.010457        0         24.758837   \n",
       "10931     0   82  24  Open Play     0.022750        0         25.079872   \n",
       "\n",
       "       goal_angle   logdist  logangle  \n",
       "0        0.245001  2.988175 -1.406494  \n",
       "1        0.765143  2.203360 -0.267693  \n",
       "2        0.546022  2.567899 -0.605095  \n",
       "3        0.543294  2.152033 -0.610104  \n",
       "4        0.858147  2.079442 -0.152980  \n",
       "...           ...       ...       ...  \n",
       "10927    0.450846  2.244318 -0.796630  \n",
       "10928    0.309593  2.831480 -1.172498  \n",
       "10929    0.412546  2.819177 -0.885409  \n",
       "10930    0.204632  3.209182 -1.586543  \n",
       "10931    0.266959  3.222066 -1.320659  \n",
       "\n",
       "[10932 rows x 10 columns]"
      ]
     },
     "execution_count": 10,
     "metadata": {},
     "output_type": "execute_result"
    }
   ],
   "source": [
    "shots"
   ]
  },
  {
   "cell_type": "markdown",
   "metadata": {},
   "source": [
    "## Fitting and evaluation"
   ]
  },
  {
   "cell_type": "code",
   "execution_count": 11,
   "metadata": {},
   "outputs": [],
   "source": [
    "from sklearn.model_selection import train_test_split\n",
    "from sklearn.linear_model import LogisticRegression\n",
    "from sklearn.pipeline import make_pipeline\n",
    "from sklearn.preprocessing import StandardScaler\n",
    "from sklearn.metrics import brier_score_loss, roc_auc_score\n",
    "\n",
    "train_set, test_set = train_test_split(shots, test_size=0.2, random_state=9)"
   ]
  },
  {
   "cell_type": "code",
   "execution_count": 12,
   "metadata": {},
   "outputs": [
    {
     "data": {
      "text/plain": [
       "(8745, 2187)"
      ]
     },
     "execution_count": 12,
     "metadata": {},
     "output_type": "execute_result"
    }
   ],
   "source": [
    "len(train_set), len(test_set)"
   ]
  },
  {
   "cell_type": "code",
   "execution_count": 13,
   "metadata": {},
   "outputs": [
    {
     "name": "stdout",
     "output_type": "stream",
     "text": [
      "Accuracy: 0.00\n"
     ]
    }
   ],
   "source": [
    "#features = ['x', 'y']\n",
    "\n",
    "#features = ['distance_to_goal', 'goal_angle']\n",
    "features = ['x', 'y', 'distance_to_goal', 'goal_angle']\n",
    "\n",
    "X_train = train_set[features]\n",
    "y_train = train_set.outcome\n",
    "X_test = test_set[features]\n",
    "y_test = test_set.outcome\n",
    "\n",
    "pipe = make_pipeline(StandardScaler(), LogisticRegression())\n",
    "pipe.fit(X_train, y_train)\n",
    "\n",
    "predictions = pipe.predict_proba(X_test)[:, 1]\n",
    "accuracy = (predictions == y_test).mean()\n",
    "print(f'Accuracy: {accuracy:.2f}')"
   ]
  },
  {
   "cell_type": "code",
   "execution_count": 14,
   "metadata": {},
   "outputs": [
    {
     "data": {
      "text/plain": [
       "[<matplotlib.lines.Line2D at 0x7f5bae545d60>]"
      ]
     },
     "execution_count": 14,
     "metadata": {},
     "output_type": "execute_result"
    },
    {
     "data": {
      "image/png": "[encoded data removed]",
      "text/plain": [
       "<Figure size 432x288 with 1 Axes>"
      ]
     },
     "metadata": {
      "needs_background": "light"
     },
     "output_type": "display_data"
    }
   ],
   "source": [
    "\n",
    "plt.plot(sorted(test_set.statsbombxg))"
   ]
  },
  {
   "cell_type": "code",
   "execution_count": 15,
   "metadata": {},
   "outputs": [
    {
     "data": {
      "text/plain": [
       "[<matplotlib.lines.Line2D at 0x7f5bae4c9ee0>]"
      ]
     },
     "execution_count": 15,
     "metadata": {},
     "output_type": "execute_result"
    },
    {
     "data": {
      "image/png": "[encoded data removed]",
      "text/plain": [
       "<Figure size 432x288 with 1 Axes>"
      ]
     },
     "metadata": {
      "needs_background": "light"
     },
     "output_type": "display_data"
    }
   ],
   "source": [
    "\n",
    "plt.plot(sorted(predictions))"
   ]
  },
  {
   "cell_type": "code",
   "execution_count": 16,
   "metadata": {},
   "outputs": [
    {
     "data": {
      "text/plain": [
       "['model.joblib']"
      ]
     },
     "execution_count": 16,
     "metadata": {},
     "output_type": "execute_result"
    }
   ],
   "source": [
    "from joblib import dump, load\n",
    "dump(pipe, 'model.joblib') "
   ]
  },
  {
   "cell_type": "code",
   "execution_count": 17,
   "metadata": {},
   "outputs": [],
   "source": [
    "def eval_features(features, train_set, test_set):\n",
    "    sbxg = test_set.statsbombxg\n",
    "    sb_outcome = 1 * (sbxg > 0.5)\n",
    "    \n",
    "    X_train = train_set[features]\n",
    "    y_train = train_set.outcome\n",
    "    X_test = test_set[features]\n",
    "    y_test = test_set.outcome\n",
    "    \n",
    "    pipe = make_pipeline(StandardScaler(), LogisticRegression())\n",
    "    pipe.fit(X_train, y_train)\n",
    "    \n",
    "    predictions = pipe.predict(X_test)\n",
    "    accuracy = (predictions == y_test).mean()\n",
    "    print(f'Accuracy: {accuracy:.2f}')\n",
    "    sb_acc = (sb_outcome == y_test).mean()\n",
    "    \n",
    "    prob_predictions = pipe.predict_proba(X_test)[:, 1]\n",
    "    brier_score = brier_score_loss(y_test, prob_predictions)\n",
    "    print(f'Brier Score: {brier_score:.2f}')\n",
    "    sb_brier = brier_score_loss(y_test, sbxg)\n",
    "    \n",
    "    auc_score = roc_auc_score(y_test, prob_predictions)\n",
    "    print(f'AUC score: {auc_score:.2f}')\n",
    "    \n",
    "    auc_score = roc_auc_score(y_test, sbxg)\n",
    "    print(f'Statsbomb accuracy: {sb_acc:.2f}')\n",
    "    print(f'Statsbomb Brier Score: {sb_brier:.2f}')\n",
    "    print(f'Statsbomb AUC score: {auc_score:.2f}')\n",
    "    print()"
   ]
  },
  {
   "cell_type": "code",
   "execution_count": 18,
   "metadata": {},
   "outputs": [
    {
     "name": "stdout",
     "output_type": "stream",
     "text": [
      "Accuracy: 0.87\n",
      "Brier Score: 0.11\n",
      "AUC score: 0.69\n",
      "Statsbomb accuracy: 0.88\n",
      "Statsbomb Brier Score: 0.09\n",
      "Statsbomb AUC score: 0.82\n",
      "\n",
      "Accuracy: 0.87\n",
      "Brier Score: 0.10\n",
      "AUC score: 0.74\n",
      "Statsbomb accuracy: 0.88\n",
      "Statsbomb Brier Score: 0.09\n",
      "Statsbomb AUC score: 0.82\n",
      "\n",
      "Accuracy: 0.87\n",
      "Brier Score: 0.10\n",
      "AUC score: 0.75\n",
      "Statsbomb accuracy: 0.88\n",
      "Statsbomb Brier Score: 0.09\n",
      "Statsbomb AUC score: 0.82\n",
      "\n",
      "Accuracy: 0.87\n",
      "Brier Score: 0.10\n",
      "AUC score: 0.74\n",
      "Statsbomb accuracy: 0.88\n",
      "Statsbomb Brier Score: 0.09\n",
      "Statsbomb AUC score: 0.82\n",
      "\n",
      "Accuracy: 0.87\n",
      "Brier Score: 0.10\n",
      "AUC score: 0.75\n",
      "Statsbomb accuracy: 0.88\n",
      "Statsbomb Brier Score: 0.09\n",
      "Statsbomb AUC score: 0.82\n",
      "\n"
     ]
    }
   ],
   "source": [
    "features = ['x', 'y']\n",
    "eval_features(features, train_set, test_set)\n",
    "features = ['distance_to_goal', 'goal_angle']\n",
    "eval_features(features, train_set, test_set)\n",
    "features = ['logdist', 'logangle']\n",
    "eval_features(features, train_set, test_set)\n",
    "features = ['logdist', 'goal_angle']\n",
    "eval_features(features, train_set, test_set)\n",
    "features = ['x', 'y', 'distance_to_goal', 'goal_angle']\n",
    "eval_features(features, train_set, test_set)"
   ]
  },
  {
   "cell_type": "code",
   "execution_count": null,
   "metadata": {},
   "outputs": [],
   "source": []
  }
 ],
 "metadata": {
  "kernelspec": {
   "display_name": "Python 3",
   "language": "python",
   "name": "python3"
  },
  "language_info": {
   "codemirror_mode": {
    "name": "ipython",
    "version": 3
   },
   "file_extension": ".py",
   "mimetype": "text/x-python",
   "name": "python",
   "nbconvert_exporter": "python",
   "pygments_lexer": "ipython3",
   "version": "3.8.3"
  }
 },
 "nbformat": 4,
 "nbformat_minor": 4
}
