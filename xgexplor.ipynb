{
 "cells": [
  {
   "cell_type": "markdown",
   "metadata": {},
   "source": [
    "# xG data exploration"
   ]
  },
  {
   "cell_type": "code",
   "execution_count": 1,
   "metadata": {},
   "outputs": [],
   "source": [
    "import json\n",
    "import pandas as pd\n",
    "import numpy as np\n",
    "import matplotlib.pyplot as plt\n",
    "from tqdm import tqdm\n",
    "\n",
    "pd.set_option('display.max_columns', None)"
   ]
  },
  {
   "cell_type": "code",
   "execution_count": null,
   "metadata": {},
   "outputs": [
    {
     "name": "stderr",
     "output_type": "stream",
     "text": [
      "/home/elgutto/anaconda3/lib/python3.8/site-packages/IPython/core/interactiveshell.py:3071: DtypeWarning: Columns (18,45,74,75,76,77,80,81,84,85,86,87,89,90,95,96,97,99,101,102,103,105,106,107,108,109,111,112,113,114,115,116,117,118,119,121,122,124,125,126,127,128,129,130,131,132,133,134,135,136,137,138,139,140,141,142,143,144,145,146,147,148,149) have mixed types.Specify dtype option on import or set low_memory=False.\n",
      "  has_raised = await self.run_ast_nodes(code_ast.body, cell_name,\n"
     ]
    }
   ],
   "source": [
    "df = pd.read_csv('df.csv')"
   ]
  },
  {
   "cell_type": "code",
   "execution_count": null,
   "metadata": {},
   "outputs": [],
   "source": [
    "df"
   ]
  },
  {
   "cell_type": "code",
   "execution_count": 2,
   "metadata": {},
   "outputs": [
    {
     "data": {
      "text/plain": [
       "[PosixPath('statsbomb'),\n",
       " PosixPath('.ipynb_checkpoints'),\n",
       " PosixPath('d3exploration'),\n",
       " PosixPath('.git')]"
      ]
     },
     "execution_count": 2,
     "metadata": {},
     "output_type": "execute_result"
    }
   ],
   "source": [
    "from pathlib import Path\n",
    "\n",
    "root = Path('.')\n",
    "\n",
    "[x for x in root.iterdir() if x.is_dir()]"
   ]
  },
  {
   "cell_type": "code",
   "execution_count": 3,
   "metadata": {},
   "outputs": [
    {
     "data": {
      "text/plain": [
       "890"
      ]
     },
     "execution_count": 3,
     "metadata": {},
     "output_type": "execute_result"
    }
   ],
   "source": [
    "len(list(root.glob('**/events/*.json')))"
   ]
  },
  {
   "cell_type": "code",
   "execution_count": 4,
   "metadata": {},
   "outputs": [
    {
     "name": "stderr",
     "output_type": "stream",
     "text": [
      "100%|██████████| 890/890 [06:09<00:00,  2.41it/s]\n"
     ]
    }
   ],
   "source": [
    "N = 445\n",
    "dfs = []\n",
    "for file in tqdm(list(root.glob('**/events/*.json'))):\n",
    "    with file.open() as f:\n",
    "        df = pd.json_normalize(json.loads(f.read()), sep='_')\n",
    "    dfs.append(df)\n",
    "df = pd.concat(dfs, sort=False)\n",
    "df.reset_index(drop=True, inplace=True)\n",
    "df.to_csv('df.csv')"
   ]
  },
  {
   "cell_type": "markdown",
   "metadata": {},
   "source": [
    "## Data preparation"
   ]
  },
  {
   "cell_type": "code",
   "execution_count": 2,
   "metadata": {},
   "outputs": [],
   "source": [
    "COMP_ID = 43\n",
    "SEASON_ID = 3\n",
    "\n",
    "with open(f'statsbomb/data/matches/{COMP_ID}/{SEASON_ID}.json') as f:\n",
    "    data = json.load(f)\n",
    "matches = [row['match_id'] for row in data]"
   ]
  },
  {
   "cell_type": "code",
   "execution_count": 3,
   "metadata": {},
   "outputs": [
    {
     "name": "stderr",
     "output_type": "stream",
     "text": [
      "100%|██████████| 64/64 [00:25<00:00,  2.50it/s]\n"
     ]
    },
    {
     "name": "stdout",
     "output_type": "stream",
     "text": [
      "lol\n"
     ]
    }
   ],
   "source": [
    "dfs = []\n",
    "for match in tqdm(matches):\n",
    "    with open(f'statsbomb/data/events/{match}.json') as f:\n",
    "        df = pd.json_normalize(json.loads(f.read()), sep='_')\n",
    "    dfs.append(df)\n",
    "df = pd.concat(dfs, sort=False)\n",
    "df.reset_index(drop=True, inplace=True)\n",
    "print('lol')"
   ]
  },
  {
   "cell_type": "code",
   "execution_count": 4,
   "metadata": {
    "scrolled": true
   },
   "outputs": [],
   "source": [
    "# shots = df[df.type_name == 'Shot']\n",
    "shots = df.query('type_name == \"Shot\"')"
   ]
  },
  {
   "cell_type": "code",
   "execution_count": 5,
   "metadata": {},
   "outputs": [],
   "source": [
    "pd.options.mode.chained_assignment = None\n",
    "def parse_shots(shots):\n",
    "    columns = ['x', 'y', 'head', 'phase', 'statsbombxg', 'outcome']\n",
    "    \n",
    "    shots['head'] = 1 * (shots.shot_body_part_name == 'Head')\n",
    "    shots[['x', 'y']] = pd.DataFrame(shots.location.to_list(), index=shots.index)\n",
    "    shots.x = (shots.x / 120 * 105).astype(int)\n",
    "    shots.y = (shots.y / 80 * 68).astype(int)\n",
    "    #pd.DataFrame(features.location.to_list(), index=features.index)\n",
    "    \n",
    "    shots['phase'] = shots.shot_type_name\n",
    "    shots['statsbombxg'] = shots.shot_statsbomb_xg\n",
    "    shots['outcome'] = 1 * (shots.shot_outcome_name == 'Goal')\n",
    "    \n",
    "    shots.drop(shots.columns.difference(columns), axis=1, inplace=True)\n",
    "    shots = shots[shots.phase == 'Open Play']\n",
    "    shots.reset_index(drop=True, inplace=True)\n",
    "    \n",
    "    return shots"
   ]
  },
  {
   "cell_type": "code",
   "execution_count": 6,
   "metadata": {},
   "outputs": [],
   "source": [
    "shots = parse_shots(shots)"
   ]
  },
  {
   "cell_type": "code",
   "execution_count": 10,
   "metadata": {},
   "outputs": [],
   "source": [
    "def distance_to_goal(origin):\n",
    "    dest = np.array([105., 34.])\n",
    "    return np.sqrt(np.sum((origin - dest) ** 2))\n",
    "\n",
    "def goal_angle(origin):\n",
    "    p0 = np.array((105., 34 - 7.32 / 2))  # Left Post\n",
    "    p1 = np.array(origin, dtype=np.float)\n",
    "    p2 = np.array((105., 34 + 7.32 / 2))  # Right Post\n",
    "\n",
    "    v0 = p0 - p1\n",
    "    v1 = p2 - p1\n",
    "\n",
    "    angle = np.abs(np.math.atan2(np.linalg.det([v0, v1]), np.dot(v0, v1)))\n",
    "    \n",
    "    return angle\n",
    "\n",
    "shots['distance_to_goal'] = shots.apply(lambda row: distance_to_goal(row[['x', 'y']]), axis=1)\n",
    "shots['goal_angle'] = shots.apply(lambda r: goal_angle(r[['x', 'y']]), axis=1)\n",
    "shots['logdist'] = np.log(shots.distance_to_goal)\n",
    "shots['logangle'] = np.log(shots.goal_angle)"
   ]
  },
  {
   "cell_type": "code",
   "execution_count": 11,
   "metadata": {},
   "outputs": [],
   "source": [
    "#shots.hist(bins=50, figsize=(20, 12))"
   ]
  },
  {
   "cell_type": "code",
   "execution_count": 12,
   "metadata": {},
   "outputs": [
    {
     "data": {
      "text/html": [
       "<div>\n",
       "<style scoped>\n",
       "    .dataframe tbody tr th:only-of-type {\n",
       "        vertical-align: middle;\n",
       "    }\n",
       "\n",
       "    .dataframe tbody tr th {\n",
       "        vertical-align: top;\n",
       "    }\n",
       "\n",
       "    .dataframe thead th {\n",
       "        text-align: right;\n",
       "    }\n",
       "</style>\n",
       "<table border=\"1\" class=\"dataframe\">\n",
       "  <thead>\n",
       "    <tr style=\"text-align: right;\">\n",
       "      <th></th>\n",
       "      <th>head</th>\n",
       "      <th>x</th>\n",
       "      <th>y</th>\n",
       "      <th>phase</th>\n",
       "      <th>statsbombxg</th>\n",
       "      <th>outcome</th>\n",
       "      <th>distance_to_goal</th>\n",
       "      <th>goal_angle</th>\n",
       "      <th>logdist</th>\n",
       "      <th>logangle</th>\n",
       "    </tr>\n",
       "  </thead>\n",
       "  <tbody>\n",
       "    <tr>\n",
       "      <th>0</th>\n",
       "      <td>0</td>\n",
       "      <td>100</td>\n",
       "      <td>28</td>\n",
       "      <td>Open Play</td>\n",
       "      <td>0.074087</td>\n",
       "      <td>1</td>\n",
       "      <td>7.810250</td>\n",
       "      <td>0.655448</td>\n",
       "      <td>2.055437</td>\n",
       "      <td>-0.422436</td>\n",
       "    </tr>\n",
       "    <tr>\n",
       "      <th>1</th>\n",
       "      <td>0</td>\n",
       "      <td>98</td>\n",
       "      <td>30</td>\n",
       "      <td>Open Play</td>\n",
       "      <td>0.292995</td>\n",
       "      <td>1</td>\n",
       "      <td>8.062258</td>\n",
       "      <td>0.781855</td>\n",
       "      <td>2.087194</td>\n",
       "      <td>-0.246086</td>\n",
       "    </tr>\n",
       "    <tr>\n",
       "      <th>2</th>\n",
       "      <td>0</td>\n",
       "      <td>90</td>\n",
       "      <td>20</td>\n",
       "      <td>Open Play</td>\n",
       "      <td>0.028038</td>\n",
       "      <td>0</td>\n",
       "      <td>20.518285</td>\n",
       "      <td>0.263133</td>\n",
       "      <td>3.021316</td>\n",
       "      <td>-1.335096</td>\n",
       "    </tr>\n",
       "    <tr>\n",
       "      <th>3</th>\n",
       "      <td>0</td>\n",
       "      <td>84</td>\n",
       "      <td>31</td>\n",
       "      <td>Open Play</td>\n",
       "      <td>0.064261</td>\n",
       "      <td>0</td>\n",
       "      <td>21.213203</td>\n",
       "      <td>0.338527</td>\n",
       "      <td>3.054624</td>\n",
       "      <td>-1.083151</td>\n",
       "    </tr>\n",
       "    <tr>\n",
       "      <th>4</th>\n",
       "      <td>0</td>\n",
       "      <td>97</td>\n",
       "      <td>42</td>\n",
       "      <td>Open Play</td>\n",
       "      <td>0.303150</td>\n",
       "      <td>0</td>\n",
       "      <td>11.313708</td>\n",
       "      <td>0.472389</td>\n",
       "      <td>2.426015</td>\n",
       "      <td>-0.749952</td>\n",
       "    </tr>\n",
       "    <tr>\n",
       "      <th>...</th>\n",
       "      <td>...</td>\n",
       "      <td>...</td>\n",
       "      <td>...</td>\n",
       "      <td>...</td>\n",
       "      <td>...</td>\n",
       "      <td>...</td>\n",
       "      <td>...</td>\n",
       "      <td>...</td>\n",
       "      <td>...</td>\n",
       "      <td>...</td>\n",
       "    </tr>\n",
       "    <tr>\n",
       "      <th>1551</th>\n",
       "      <td>1</td>\n",
       "      <td>98</td>\n",
       "      <td>34</td>\n",
       "      <td>Open Play</td>\n",
       "      <td>0.055357</td>\n",
       "      <td>0</td>\n",
       "      <td>7.000000</td>\n",
       "      <td>0.963531</td>\n",
       "      <td>1.945910</td>\n",
       "      <td>-0.037150</td>\n",
       "    </tr>\n",
       "    <tr>\n",
       "      <th>1552</th>\n",
       "      <td>1</td>\n",
       "      <td>92</td>\n",
       "      <td>34</td>\n",
       "      <td>Open Play</td>\n",
       "      <td>0.016941</td>\n",
       "      <td>0</td>\n",
       "      <td>13.000000</td>\n",
       "      <td>0.548869</td>\n",
       "      <td>2.564949</td>\n",
       "      <td>-0.599895</td>\n",
       "    </tr>\n",
       "    <tr>\n",
       "      <th>1553</th>\n",
       "      <td>0</td>\n",
       "      <td>92</td>\n",
       "      <td>51</td>\n",
       "      <td>Open Play</td>\n",
       "      <td>0.027727</td>\n",
       "      <td>0</td>\n",
       "      <td>21.400935</td>\n",
       "      <td>0.210852</td>\n",
       "      <td>3.063435</td>\n",
       "      <td>-1.556600</td>\n",
       "    </tr>\n",
       "    <tr>\n",
       "      <th>1554</th>\n",
       "      <td>0</td>\n",
       "      <td>81</td>\n",
       "      <td>36</td>\n",
       "      <td>Open Play</td>\n",
       "      <td>0.020467</td>\n",
       "      <td>0</td>\n",
       "      <td>24.083189</td>\n",
       "      <td>0.300658</td>\n",
       "      <td>3.181514</td>\n",
       "      <td>-1.201781</td>\n",
       "    </tr>\n",
       "    <tr>\n",
       "      <th>1555</th>\n",
       "      <td>1</td>\n",
       "      <td>101</td>\n",
       "      <td>30</td>\n",
       "      <td>Open Play</td>\n",
       "      <td>0.258531</td>\n",
       "      <td>1</td>\n",
       "      <td>5.656854</td>\n",
       "      <td>1.004756</td>\n",
       "      <td>1.732868</td>\n",
       "      <td>0.004745</td>\n",
       "    </tr>\n",
       "  </tbody>\n",
       "</table>\n",
       "<p>1556 rows × 10 columns</p>\n",
       "</div>"
      ],
      "text/plain": [
       "      head    x   y      phase  statsbombxg  outcome  distance_to_goal  \\\n",
       "0        0  100  28  Open Play     0.074087        1          7.810250   \n",
       "1        0   98  30  Open Play     0.292995        1          8.062258   \n",
       "2        0   90  20  Open Play     0.028038        0         20.518285   \n",
       "3        0   84  31  Open Play     0.064261        0         21.213203   \n",
       "4        0   97  42  Open Play     0.303150        0         11.313708   \n",
       "...    ...  ...  ..        ...          ...      ...               ...   \n",
       "1551     1   98  34  Open Play     0.055357        0          7.000000   \n",
       "1552     1   92  34  Open Play     0.016941        0         13.000000   \n",
       "1553     0   92  51  Open Play     0.027727        0         21.400935   \n",
       "1554     0   81  36  Open Play     0.020467        0         24.083189   \n",
       "1555     1  101  30  Open Play     0.258531        1          5.656854   \n",
       "\n",
       "      goal_angle   logdist  logangle  \n",
       "0       0.655448  2.055437 -0.422436  \n",
       "1       0.781855  2.087194 -0.246086  \n",
       "2       0.263133  3.021316 -1.335096  \n",
       "3       0.338527  3.054624 -1.083151  \n",
       "4       0.472389  2.426015 -0.749952  \n",
       "...          ...       ...       ...  \n",
       "1551    0.963531  1.945910 -0.037150  \n",
       "1552    0.548869  2.564949 -0.599895  \n",
       "1553    0.210852  3.063435 -1.556600  \n",
       "1554    0.300658  3.181514 -1.201781  \n",
       "1555    1.004756  1.732868  0.004745  \n",
       "\n",
       "[1556 rows x 10 columns]"
      ]
     },
     "execution_count": 12,
     "metadata": {},
     "output_type": "execute_result"
    }
   ],
   "source": [
    "shots"
   ]
  },
  {
   "cell_type": "markdown",
   "metadata": {},
   "source": [
    "## Fitting and evaluation"
   ]
  },
  {
   "cell_type": "code",
   "execution_count": 13,
   "metadata": {},
   "outputs": [],
   "source": [
    "from sklearn.model_selection import train_test_split\n",
    "from sklearn.linear_model import LogisticRegression\n",
    "from sklearn.pipeline import make_pipeline\n",
    "from sklearn.preprocessing import StandardScaler\n",
    "from sklearn.metrics import brier_score_loss, roc_auc_score\n",
    "\n",
    "train_set, test_set = train_test_split(shots, test_size=0.2, random_state=9)"
   ]
  },
  {
   "cell_type": "code",
   "execution_count": 14,
   "metadata": {},
   "outputs": [
    {
     "data": {
      "text/plain": [
       "(1244, 312)"
      ]
     },
     "execution_count": 14,
     "metadata": {},
     "output_type": "execute_result"
    }
   ],
   "source": [
    "len(train_set), len(test_set)"
   ]
  },
  {
   "cell_type": "code",
   "execution_count": 16,
   "metadata": {},
   "outputs": [
    {
     "name": "stdout",
     "output_type": "stream",
     "text": [
      "Accuracy: 0.00\n"
     ]
    }
   ],
   "source": [
    "#features = ['x', 'y']\n",
    "\n",
    "#features = ['distance_to_goal', 'goal_angle']\n",
    "features = ['x', 'y', 'distance_to_goal', 'goal_angle']\n",
    "\n",
    "X_train = train_set[features]\n",
    "y_train = train_set.outcome\n",
    "X_test = test_set[features]\n",
    "y_test = test_set.outcome\n",
    "\n",
    "pipe = make_pipeline(StandardScaler(), LogisticRegression())\n",
    "pipe.fit(X_train, y_train)\n",
    "\n",
    "predictions = pipe.predict_proba(X_test)[:, 1]\n",
    "accuracy = (predictions == y_test).mean()\n",
    "print(f'Accuracy: {accuracy:.2f}')"
   ]
  },
  {
   "cell_type": "code",
   "execution_count": 19,
   "metadata": {},
   "outputs": [
    {
     "data": {
      "text/plain": [
       "[<matplotlib.lines.Line2D at 0x7fca920575e0>]"
      ]
     },
     "execution_count": 19,
     "metadata": {},
     "output_type": "execute_result"
    },
    {
     "data": {
      "image/png": "[encoded data removed]",
      "text/plain": [
       "<Figure size 432x288 with 1 Axes>"
      ]
     },
     "metadata": {
      "needs_background": "light"
     },
     "output_type": "display_data"
    }
   ],
   "source": [
    "\n",
    "plt.plot(sorted(test_set.statsbombxg))"
   ]
  },
  {
   "cell_type": "code",
   "execution_count": 20,
   "metadata": {},
   "outputs": [
    {
     "data": {
      "text/plain": [
       "[<matplotlib.lines.Line2D at 0x7fca91fc37c0>]"
      ]
     },
     "execution_count": 20,
     "metadata": {},
     "output_type": "execute_result"
    },
    {
     "data": {
      "image/png": "[encoded data removed]",
      "text/plain": [
       "<Figure size 432x288 with 1 Axes>"
      ]
     },
     "metadata": {
      "needs_background": "light"
     },
     "output_type": "display_data"
    }
   ],
   "source": [
    "\n",
    "plt.plot(sorted(predictions))"
   ]
  },
  {
   "cell_type": "code",
   "execution_count": 21,
   "metadata": {},
   "outputs": [
    {
     "data": {
      "text/plain": [
       "['model.joblib']"
      ]
     },
     "execution_count": 21,
     "metadata": {},
     "output_type": "execute_result"
    }
   ],
   "source": [
    "from joblib import dump, load\n",
    "dump(pipe, 'model.joblib') "
   ]
  },
  {
   "cell_type": "code",
   "execution_count": 22,
   "metadata": {},
   "outputs": [],
   "source": [
    "def eval_features(features, train_set, test_set):\n",
    "    sbxg = test_set.statsbombxg\n",
    "    sb_outcome = 1 * (sbxg > 0.5)\n",
    "    \n",
    "    X_train = train_set[features]\n",
    "    y_train = train_set.outcome\n",
    "    X_test = test_set[features]\n",
    "    y_test = test_set.outcome\n",
    "    \n",
    "    pipe = make_pipeline(StandardScaler(), LogisticRegression())\n",
    "    pipe.fit(X_train, y_train)\n",
    "    \n",
    "    predictions = pipe.predict(X_test)\n",
    "    accuracy = (predictions == y_test).mean()\n",
    "    print(f'Accuracy: {accuracy:.2f}')\n",
    "    sb_acc = (sb_outcome == y_test).mean()\n",
    "    \n",
    "    prob_predictions = pipe.predict_proba(X_test)[:, 1]\n",
    "    brier_score = brier_score_loss(y_test, prob_predictions)\n",
    "    print(f'Brier Score: {brier_score:.2f}')\n",
    "    sb_brier = brier_score_loss(y_test, sbxg)\n",
    "    \n",
    "    auc_score = roc_auc_score(y_test, prob_predictions)\n",
    "    print(f'AUC score: {auc_score:.2f}')\n",
    "    \n",
    "    auc_score = roc_auc_score(y_test, sbxg)\n",
    "    print(f'Statsbomb accuracy: {sb_acc:.2f}')\n",
    "    print(f'Statsbomb Brier Score: {sb_brier:.2f}')\n",
    "    print(f'Statsbomb AUC score: {auc_score:.2f}')\n",
    "    print()"
   ]
  },
  {
   "cell_type": "code",
   "execution_count": 23,
   "metadata": {},
   "outputs": [
    {
     "name": "stdout",
     "output_type": "stream",
     "text": [
      "Accuracy: 0.93\n",
      "Brier Score: 0.07\n",
      "AUC score: 0.68\n",
      "Statsbomb accuracy: 0.92\n",
      "Statsbomb Brier Score: 0.07\n",
      "Statsbomb AUC score: 0.73\n",
      "\n",
      "Accuracy: 0.92\n",
      "Brier Score: 0.07\n",
      "AUC score: 0.68\n",
      "Statsbomb accuracy: 0.92\n",
      "Statsbomb Brier Score: 0.07\n",
      "Statsbomb AUC score: 0.73\n",
      "\n",
      "Accuracy: 0.92\n",
      "Brier Score: 0.07\n",
      "AUC score: 0.68\n",
      "Statsbomb accuracy: 0.92\n",
      "Statsbomb Brier Score: 0.07\n",
      "Statsbomb AUC score: 0.73\n",
      "\n",
      "Accuracy: 0.92\n",
      "Brier Score: 0.07\n",
      "AUC score: 0.68\n",
      "Statsbomb accuracy: 0.92\n",
      "Statsbomb Brier Score: 0.07\n",
      "Statsbomb AUC score: 0.73\n",
      "\n",
      "Accuracy: 0.92\n",
      "Brier Score: 0.07\n",
      "AUC score: 0.68\n",
      "Statsbomb accuracy: 0.92\n",
      "Statsbomb Brier Score: 0.07\n",
      "Statsbomb AUC score: 0.73\n",
      "\n"
     ]
    }
   ],
   "source": [
    "features = ['x', 'y']\n",
    "eval_features(features, train_set, test_set)\n",
    "features = ['distance_to_goal', 'goal_angle']\n",
    "eval_features(features, train_set, test_set)\n",
    "features = ['logdist', 'logangle']\n",
    "eval_features(features, train_set, test_set)\n",
    "features = ['logdist', 'goal_angle']\n",
    "eval_features(features, train_set, test_set)\n",
    "features = ['x', 'y', 'distance_to_goal', 'goal_angle']\n",
    "eval_features(features, train_set, test_set)"
   ]
  },
  {
   "cell_type": "code",
   "execution_count": null,
   "metadata": {},
   "outputs": [],
   "source": []
  }
 ],
 "metadata": {
  "kernelspec": {
   "display_name": "Python 3",
   "language": "python",
   "name": "python3"
  },
  "language_info": {
   "codemirror_mode": {
    "name": "ipython",
    "version": 3
   },
   "file_extension": ".py",
   "mimetype": "text/x-python",
   "name": "python",
   "nbconvert_exporter": "python",
   "pygments_lexer": "ipython3",
   "version": "3.8.3"
  }
 },
 "nbformat": 4,
 "nbformat_minor": 4
}
