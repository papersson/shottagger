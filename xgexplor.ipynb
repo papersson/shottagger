{
 "cells": [
  {
   "cell_type": "markdown",
   "metadata": {},
   "source": [
    "# xG data exploration"
   ]
  },
  {
   "cell_type": "code",
   "execution_count": 1,
   "metadata": {},
   "outputs": [],
   "source": [
    "import json\n",
    "import pandas as pd\n",
    "import numpy as np\n",
    "import matplotlib.pyplot as plt\n",
    "from tqdm import tqdm\n",
    "\n",
    "pd.set_option('display.max_columns', None)\n",
    "#shot_first_time, shot_freeze_frame, shot_one_on_one, shot_open_goal"
   ]
  },
  {
   "cell_type": "markdown",
   "metadata": {},
   "source": [
    "## Data preparation"
   ]
  },
  {
   "cell_type": "code",
   "execution_count": 2,
   "metadata": {},
   "outputs": [
    {
     "ename": "NameError",
     "evalue": "name 'shots' is not defined",
     "output_type": "error",
     "traceback": [
      "\u001b[0;31m---------------------------------------------------------------------------\u001b[0m",
      "\u001b[0;31mNameError\u001b[0m                                 Traceback (most recent call last)",
      "\u001b[0;32m<ipython-input-2-10fc9aa400e6>\u001b[0m in \u001b[0;36m<module>\u001b[0;34m\u001b[0m\n\u001b[0;32m----> 1\u001b[0;31m \u001b[0mshots\u001b[0m\u001b[0;34m\u001b[0m\u001b[0;34m\u001b[0m\u001b[0m\n\u001b[0m",
      "\u001b[0;31mNameError\u001b[0m: name 'shots' is not defined"
     ]
    }
   ],
   "source": [
    "shots"
   ]
  },
  {
   "cell_type": "code",
   "execution_count": 2,
   "metadata": {},
   "outputs": [],
   "source": [
    "shots = pd.read_feather('shots.ftr')"
   ]
  },
  {
   "cell_type": "code",
   "execution_count": 4,
   "metadata": {},
   "outputs": [],
   "source": [
    "import math\n",
    "def distance_to_opp(player, opponent):\n",
    "    return math.hypot(opponent[0] - player[0], opponent[1] - player[1])"
   ]
  },
  {
   "cell_type": "code",
   "execution_count": 5,
   "metadata": {},
   "outputs": [
    {
     "data": {
      "text/plain": [
       "array([106. ,  57.8])"
      ]
     },
     "execution_count": 5,
     "metadata": {},
     "output_type": "execute_result"
    }
   ],
   "source": [
    "shots.iloc[0].location"
   ]
  },
  {
   "cell_type": "code",
   "execution_count": 6,
   "metadata": {},
   "outputs": [],
   "source": [
    "# COMP_ID = 11\n",
    "# \n",
    "# season_ids = !ls statsbomb/data/matches/11\n",
    "# season_ids = [x.split('.')[0] for x in matches]\n",
    "# \n",
    "# match_ids = []\n",
    "# for season_id in season_ids:\n",
    "#     with open(f'statsbomb/data/matches/{COMP_ID}/{season_id}.json') as f:\n",
    "#         data = json.load(f)\n",
    "#     match_ids += [row['match_id'] for row in data]"
   ]
  },
  {
   "cell_type": "code",
   "execution_count": 7,
   "metadata": {},
   "outputs": [],
   "source": [
    "# dfs = []\n",
    "# for match_id in tqdm(match_ids):\n",
    "#     with open(f'statsbomb/data/events/{match_id}.json') as f:\n",
    "#         df = pd.json_normalize(json.loads(f.read()), sep='_')\n",
    "#     dfs.append(df)\n",
    "# df = pd.concat(dfs, sort=False)\n",
    "# df.reset_index(drop=True, inplace=True)\n",
    "# df.to_csv('df.csv')\n",
    "# print('lol')"
   ]
  },
  {
   "cell_type": "code",
   "execution_count": 8,
   "metadata": {
    "scrolled": true
   },
   "outputs": [],
   "source": [
    "# shots = df.query('type_name == \"Shot\"')"
   ]
  },
  {
   "cell_type": "code",
   "execution_count": 3,
   "metadata": {},
   "outputs": [],
   "source": [
    "pd.options.mode.chained_assignment = None\n",
    "def parse_shots(shots):\n",
    "    columns = ['x', 'y', 'head', 'phase', 'statsbombxg', 'outcome', 'freeze_frame']\n",
    "    \n",
    "    shots['head'] = 1 * (shots.shot_body_part_name == 'Head')\n",
    "    shots[['x', 'y']] = pd.DataFrame(shots.location.to_list(), index=shots.index)\n",
    "    shots.x = round(shots.x / 120 * 105, 1)\n",
    "    shots.y = round(shots.y / 80 * 68, 1)\n",
    "    #pd.DataFrame(features.location.to_list(), index=features.index)\n",
    "    \n",
    "    shots['phase'] = shots.shot_type_name\n",
    "    shots['statsbombxg'] = shots.shot_statsbomb_xg\n",
    "    shots['outcome'] = 1 * (shots.shot_outcome_name == 'Goal')\n",
    "    shots['freeze_frame'] = shots.shot_freeze_frame\n",
    "    \n",
    "    shots.drop(shots.columns.difference(columns), axis=1, inplace=True)\n",
    "    shots = shots[shots.phase == 'Open Play']\n",
    "    shots.reset_index(drop=True, inplace=True)\n",
    "    \n",
    "    return shots"
   ]
  },
  {
   "cell_type": "code",
   "execution_count": 4,
   "metadata": {},
   "outputs": [
    {
     "data": {
      "text/html": [
       "<div>\n",
       "<style scoped>\n",
       "    .dataframe tbody tr th:only-of-type {\n",
       "        vertical-align: middle;\n",
       "    }\n",
       "\n",
       "    .dataframe tbody tr th {\n",
       "        vertical-align: top;\n",
       "    }\n",
       "\n",
       "    .dataframe thead th {\n",
       "        text-align: right;\n",
       "    }\n",
       "</style>\n",
       "<table border=\"1\" class=\"dataframe\">\n",
       "  <thead>\n",
       "    <tr style=\"text-align: right;\">\n",
       "      <th></th>\n",
       "      <th>head</th>\n",
       "      <th>x</th>\n",
       "      <th>y</th>\n",
       "      <th>phase</th>\n",
       "      <th>statsbombxg</th>\n",
       "      <th>outcome</th>\n",
       "      <th>freeze_frame</th>\n",
       "    </tr>\n",
       "  </thead>\n",
       "  <tbody>\n",
       "    <tr>\n",
       "      <th>0</th>\n",
       "      <td>0</td>\n",
       "      <td>92.8</td>\n",
       "      <td>49.1</td>\n",
       "      <td>Open Play</td>\n",
       "      <td>0.026399</td>\n",
       "      <td>0</td>\n",
       "      <td>[{'location': [100.7, 40.9], 'player': {'id': ...</td>\n",
       "    </tr>\n",
       "    <tr>\n",
       "      <th>1</th>\n",
       "      <td>0</td>\n",
       "      <td>96.2</td>\n",
       "      <td>33.6</td>\n",
       "      <td>Open Play</td>\n",
       "      <td>0.484256</td>\n",
       "      <td>1</td>\n",
       "      <td>[{'location': [110.1, 36.8], 'player': {'id': ...</td>\n",
       "    </tr>\n",
       "    <tr>\n",
       "      <th>2</th>\n",
       "      <td>0</td>\n",
       "      <td>92.8</td>\n",
       "      <td>33.7</td>\n",
       "      <td>Open Play</td>\n",
       "      <td>0.334151</td>\n",
       "      <td>0</td>\n",
       "      <td>[{'location': [103.3, 42.7], 'player': {'id': ...</td>\n",
       "    </tr>\n",
       "    <tr>\n",
       "      <th>3</th>\n",
       "      <td>0</td>\n",
       "      <td>100.7</td>\n",
       "      <td>41.1</td>\n",
       "      <td>Open Play</td>\n",
       "      <td>0.113160</td>\n",
       "      <td>0</td>\n",
       "      <td>[{'location': [115.9, 46.8], 'player': {'id': ...</td>\n",
       "    </tr>\n",
       "    <tr>\n",
       "      <th>4</th>\n",
       "      <td>1</td>\n",
       "      <td>97.4</td>\n",
       "      <td>34.9</td>\n",
       "      <td>Open Play</td>\n",
       "      <td>0.159821</td>\n",
       "      <td>0</td>\n",
       "      <td>[{'location': [108.2, 52.1], 'player': {'id': ...</td>\n",
       "    </tr>\n",
       "    <tr>\n",
       "      <th>...</th>\n",
       "      <td>...</td>\n",
       "      <td>...</td>\n",
       "      <td>...</td>\n",
       "      <td>...</td>\n",
       "      <td>...</td>\n",
       "      <td>...</td>\n",
       "      <td>...</td>\n",
       "    </tr>\n",
       "    <tr>\n",
       "      <th>10927</th>\n",
       "      <td>1</td>\n",
       "      <td>100.4</td>\n",
       "      <td>26.4</td>\n",
       "      <td>Open Play</td>\n",
       "      <td>0.063692</td>\n",
       "      <td>0</td>\n",
       "      <td>[{'location': [96.2, 34.9], 'player': {'id': 6...</td>\n",
       "    </tr>\n",
       "    <tr>\n",
       "      <th>10928</th>\n",
       "      <td>0</td>\n",
       "      <td>94.0</td>\n",
       "      <td>22.2</td>\n",
       "      <td>Open Play</td>\n",
       "      <td>0.050016</td>\n",
       "      <td>0</td>\n",
       "      <td>[{'location': [109.7, 29.3], 'player': {'id': ...</td>\n",
       "    </tr>\n",
       "    <tr>\n",
       "      <th>10929</th>\n",
       "      <td>0</td>\n",
       "      <td>89.9</td>\n",
       "      <td>39.2</td>\n",
       "      <td>Open Play</td>\n",
       "      <td>0.034740</td>\n",
       "      <td>0</td>\n",
       "      <td>[{'location': [101.2, 33.8], 'player': {'id': ...</td>\n",
       "    </tr>\n",
       "    <tr>\n",
       "      <th>10930</th>\n",
       "      <td>0</td>\n",
       "      <td>88.3</td>\n",
       "      <td>52.8</td>\n",
       "      <td>Open Play</td>\n",
       "      <td>0.010457</td>\n",
       "      <td>0</td>\n",
       "      <td>[{'location': [98.5, 52.5], 'player': {'id': 5...</td>\n",
       "    </tr>\n",
       "    <tr>\n",
       "      <th>10931</th>\n",
       "      <td>0</td>\n",
       "      <td>82.2</td>\n",
       "      <td>24.4</td>\n",
       "      <td>Open Play</td>\n",
       "      <td>0.022750</td>\n",
       "      <td>0</td>\n",
       "      <td>[{'location': [96.0, 29.9], 'player': {'id': 5...</td>\n",
       "    </tr>\n",
       "  </tbody>\n",
       "</table>\n",
       "<p>10932 rows × 7 columns</p>\n",
       "</div>"
      ],
      "text/plain": [
       "       head      x     y      phase  statsbombxg  outcome  \\\n",
       "0         0   92.8  49.1  Open Play     0.026399        0   \n",
       "1         0   96.2  33.6  Open Play     0.484256        1   \n",
       "2         0   92.8  33.7  Open Play     0.334151        0   \n",
       "3         0  100.7  41.1  Open Play     0.113160        0   \n",
       "4         1   97.4  34.9  Open Play     0.159821        0   \n",
       "...     ...    ...   ...        ...          ...      ...   \n",
       "10927     1  100.4  26.4  Open Play     0.063692        0   \n",
       "10928     0   94.0  22.2  Open Play     0.050016        0   \n",
       "10929     0   89.9  39.2  Open Play     0.034740        0   \n",
       "10930     0   88.3  52.8  Open Play     0.010457        0   \n",
       "10931     0   82.2  24.4  Open Play     0.022750        0   \n",
       "\n",
       "                                            freeze_frame  \n",
       "0      [{'location': [100.7, 40.9], 'player': {'id': ...  \n",
       "1      [{'location': [110.1, 36.8], 'player': {'id': ...  \n",
       "2      [{'location': [103.3, 42.7], 'player': {'id': ...  \n",
       "3      [{'location': [115.9, 46.8], 'player': {'id': ...  \n",
       "4      [{'location': [108.2, 52.1], 'player': {'id': ...  \n",
       "...                                                  ...  \n",
       "10927  [{'location': [96.2, 34.9], 'player': {'id': 6...  \n",
       "10928  [{'location': [109.7, 29.3], 'player': {'id': ...  \n",
       "10929  [{'location': [101.2, 33.8], 'player': {'id': ...  \n",
       "10930  [{'location': [98.5, 52.5], 'player': {'id': 5...  \n",
       "10931  [{'location': [96.0, 29.9], 'player': {'id': 5...  \n",
       "\n",
       "[10932 rows x 7 columns]"
      ]
     },
     "execution_count": 4,
     "metadata": {},
     "output_type": "execute_result"
    }
   ],
   "source": [
    "shots = parse_shots(shots)\n",
    "shots"
   ]
  },
  {
   "cell_type": "code",
   "execution_count": 5,
   "metadata": {},
   "outputs": [],
   "source": [
    "# https://github.com/devinpleuler/analytics-handbook/blob/master/notebooks/logistic_regression.ipynb\n",
    "def distance_to_goal(shot_location):\n",
    "    goal_location = np.array([105, 34])\n",
    "    return np.sqrt(np.sum((shot_location - goal_location) ** 2))\n",
    "\n",
    "def goal_angle(shot_location):\n",
    "    goal_location = [105, 34]\n",
    "    goal_width = 7.32\n",
    "\n",
    "    dx = shot_location[0] - goal_location[0]\n",
    "    dy1 = shot_location[1] - (goal_location[1] + goal_width / 2)\n",
    "    dy2 = shot_location[1] - (goal_location[1] - goal_width / 2)\n",
    "    u = np.array([dx, dy1])\n",
    "    v = np.array([dx, dy2])\n",
    "\n",
    "    angle = np.arccos((u @ v) / (np.linalg.norm(u) * np.linalg.norm(v)))\n",
    "    return angle\n",
    "\n",
    "def point_in_triangle(p0, p1, p2, p):\n",
    "    # https://stackoverflow.com/questions/2049582/how-to-determine-if-a-point-is-in-a-2d-triangle\n",
    "    area = 0.5 *(-p1[1]*p2[0] + p0[1]*(-p1[0] + p2[0]) + p0[0]*(p1[1] - p2[1]) + p1[0]*p2[1]);\n",
    "    s = 1/(2*area)*(p0[1]*p2[0] - p0[0]*p2[1] + (p2[1]- p0[1])*p[0] + (p0[0] - p2[0])*p[1]);\n",
    "    t = 1/(2*area)*(p0[0]*p1[1] - p0[1]*p1[0] + (p0[1] - p1[1])*p[0] + (p1[0] - p0[0])*p[1]);\n",
    "    return s > 0 and t > 0 and 1 - s - t > 0\n",
    "\n",
    "def defenders_in_area(freeze_frame, shot_location):\n",
    "    goal_width = 7.32\n",
    "    defenders = np.array([player['location'] for player in freeze_frame \n",
    "                          if not player['teammate']])\n",
    "    defenders[:, 0] = np.around(defenders[:, 0] / 120 * 105, 1)\n",
    "    defenders[:, 1] = np.around(defenders[:, 1] / 80 * 68, 1)\n",
    "    \n",
    "    p1 = np.array([105, 34 + goal_width / 2])\n",
    "    p2 = np.array([105, 34 - goal_width / 2])\n",
    "    count = 0\n",
    "    for defender in defenders:\n",
    "        if point_in_triangle(shot_location, p1, p2, defender):\n",
    "            count += 1\n",
    "    return count\n",
    "\n",
    "shots['distance'] = shots.apply(lambda row: distance_to_goal(row[['x', 'y']]), axis=1)\n",
    "shots['angle'] = shots.apply(lambda row: goal_angle(row[['x', 'y']]), axis=1)\n",
    "shots['logdist'] = np.log(shots.distance)\n",
    "shots['logangle'] = np.log(shots.angle)"
   ]
  },
  {
   "cell_type": "code",
   "execution_count": 7,
   "metadata": {},
   "outputs": [
    {
     "name": "stderr",
     "output_type": "stream",
     "text": [
      "/home/elgutto/anaconda3/lib/python3.8/site-packages/tqdm/std.py:668: FutureWarning: The Panel class is removed from pandas. Accessing it from the top-level namespace will also be removed in the next version\n",
      "  from pandas import Panel\n",
      " 54%|█████▍    | 5927/10932 [00:00<00:00, 6628.11it/s]<ipython-input-5-4fb6093f4b08>:22: RuntimeWarning: divide by zero encountered in double_scalars\n",
      "  s = 1/(2*area)*(p0[1]*p2[0] - p0[0]*p2[1] + (p2[1]- p0[1])*p[0] + (p0[0] - p2[0])*p[1]);\n",
      "<ipython-input-5-4fb6093f4b08>:23: RuntimeWarning: divide by zero encountered in double_scalars\n",
      "  t = 1/(2*area)*(p0[0]*p1[1] - p0[1]*p1[0] + (p0[1] - p1[1])*p[0] + (p1[0] - p0[0])*p[1]);\n",
      "100%|██████████| 10932/10932 [00:01<00:00, 6568.55it/s]\n"
     ]
    }
   ],
   "source": [
    "tqdm.pandas()\n",
    "shots['defenders_in_area'] = shots.progress_apply(lambda row: defenders_in_area(row.freeze_frame, (row.x, row.y)), axis=1)\n"
   ]
  },
  {
   "cell_type": "code",
   "execution_count": 9,
   "metadata": {},
   "outputs": [],
   "source": [
    "#shots.hist(bins=50, figsize=(20, 12))"
   ]
  },
  {
   "cell_type": "code",
   "execution_count": 22,
   "metadata": {},
   "outputs": [
    {
     "data": {
      "text/html": [
       "<div>\n",
       "<style scoped>\n",
       "    .dataframe tbody tr th:only-of-type {\n",
       "        vertical-align: middle;\n",
       "    }\n",
       "\n",
       "    .dataframe tbody tr th {\n",
       "        vertical-align: top;\n",
       "    }\n",
       "\n",
       "    .dataframe thead th {\n",
       "        text-align: right;\n",
       "    }\n",
       "</style>\n",
       "<table border=\"1\" class=\"dataframe\">\n",
       "  <thead>\n",
       "    <tr style=\"text-align: right;\">\n",
       "      <th></th>\n",
       "      <th>head</th>\n",
       "      <th>x</th>\n",
       "      <th>y</th>\n",
       "      <th>phase</th>\n",
       "      <th>statsbombxg</th>\n",
       "      <th>outcome</th>\n",
       "      <th>freeze_frame</th>\n",
       "      <th>distance</th>\n",
       "      <th>angle</th>\n",
       "      <th>logdist</th>\n",
       "      <th>logangle</th>\n",
       "      <th>defenders_in_area</th>\n",
       "    </tr>\n",
       "  </thead>\n",
       "  <tbody>\n",
       "    <tr>\n",
       "      <th>0</th>\n",
       "      <td>0</td>\n",
       "      <td>92.8</td>\n",
       "      <td>49.1</td>\n",
       "      <td>Open Play</td>\n",
       "      <td>0.026399</td>\n",
       "      <td>0</td>\n",
       "      <td>[{'location': [100.7, 40.9], 'player': {'id': ...</td>\n",
       "      <td>19.412625</td>\n",
       "      <td>0.240936</td>\n",
       "      <td>2.965924</td>\n",
       "      <td>-1.423224</td>\n",
       "      <td>1</td>\n",
       "    </tr>\n",
       "    <tr>\n",
       "      <th>1</th>\n",
       "      <td>0</td>\n",
       "      <td>96.2</td>\n",
       "      <td>33.6</td>\n",
       "      <td>Open Play</td>\n",
       "      <td>0.484256</td>\n",
       "      <td>1</td>\n",
       "      <td>[{'location': [110.1, 36.8], 'player': {'id': ...</td>\n",
       "      <td>8.809086</td>\n",
       "      <td>0.787043</td>\n",
       "      <td>2.175784</td>\n",
       "      <td>-0.239472</td>\n",
       "      <td>1</td>\n",
       "    </tr>\n",
       "    <tr>\n",
       "      <th>2</th>\n",
       "      <td>0</td>\n",
       "      <td>92.8</td>\n",
       "      <td>33.7</td>\n",
       "      <td>Open Play</td>\n",
       "      <td>0.334151</td>\n",
       "      <td>0</td>\n",
       "      <td>[{'location': [103.3, 42.7], 'player': {'id': ...</td>\n",
       "      <td>12.203688</td>\n",
       "      <td>0.582608</td>\n",
       "      <td>2.501738</td>\n",
       "      <td>-0.540240</td>\n",
       "      <td>1</td>\n",
       "    </tr>\n",
       "    <tr>\n",
       "      <th>3</th>\n",
       "      <td>0</td>\n",
       "      <td>100.7</td>\n",
       "      <td>41.1</td>\n",
       "      <td>Open Play</td>\n",
       "      <td>0.113160</td>\n",
       "      <td>0</td>\n",
       "      <td>[{'location': [115.9, 46.8], 'player': {'id': ...</td>\n",
       "      <td>8.300602</td>\n",
       "      <td>0.515870</td>\n",
       "      <td>2.116328</td>\n",
       "      <td>-0.661901</td>\n",
       "      <td>2</td>\n",
       "    </tr>\n",
       "    <tr>\n",
       "      <th>4</th>\n",
       "      <td>1</td>\n",
       "      <td>97.4</td>\n",
       "      <td>34.9</td>\n",
       "      <td>Open Play</td>\n",
       "      <td>0.159821</td>\n",
       "      <td>0</td>\n",
       "      <td>[{'location': [108.2, 52.1], 'player': {'id': ...</td>\n",
       "      <td>7.653104</td>\n",
       "      <td>0.888768</td>\n",
       "      <td>2.035111</td>\n",
       "      <td>-0.117919</td>\n",
       "      <td>3</td>\n",
       "    </tr>\n",
       "    <tr>\n",
       "      <th>...</th>\n",
       "      <td>...</td>\n",
       "      <td>...</td>\n",
       "      <td>...</td>\n",
       "      <td>...</td>\n",
       "      <td>...</td>\n",
       "      <td>...</td>\n",
       "      <td>...</td>\n",
       "      <td>...</td>\n",
       "      <td>...</td>\n",
       "      <td>...</td>\n",
       "      <td>...</td>\n",
       "      <td>...</td>\n",
       "    </tr>\n",
       "    <tr>\n",
       "      <th>10927</th>\n",
       "      <td>1</td>\n",
       "      <td>100.4</td>\n",
       "      <td>26.4</td>\n",
       "      <td>Open Play</td>\n",
       "      <td>0.063692</td>\n",
       "      <td>0</td>\n",
       "      <td>[{'location': [96.2, 34.9], 'player': {'id': 6...</td>\n",
       "      <td>8.883693</td>\n",
       "      <td>0.474694</td>\n",
       "      <td>2.184217</td>\n",
       "      <td>-0.745085</td>\n",
       "      <td>3</td>\n",
       "    </tr>\n",
       "    <tr>\n",
       "      <th>10928</th>\n",
       "      <td>0</td>\n",
       "      <td>94.0</td>\n",
       "      <td>22.2</td>\n",
       "      <td>Open Play</td>\n",
       "      <td>0.050016</td>\n",
       "      <td>0</td>\n",
       "      <td>[{'location': [109.7, 29.3], 'player': {'id': ...</td>\n",
       "      <td>16.131956</td>\n",
       "      <td>0.315315</td>\n",
       "      <td>2.780802</td>\n",
       "      <td>-1.154185</td>\n",
       "      <td>2</td>\n",
       "    </tr>\n",
       "    <tr>\n",
       "      <th>10929</th>\n",
       "      <td>0</td>\n",
       "      <td>89.9</td>\n",
       "      <td>39.2</td>\n",
       "      <td>Open Play</td>\n",
       "      <td>0.034740</td>\n",
       "      <td>0</td>\n",
       "      <td>[{'location': [101.2, 33.8], 'player': {'id': ...</td>\n",
       "      <td>15.970285</td>\n",
       "      <td>0.428988</td>\n",
       "      <td>2.770730</td>\n",
       "      <td>-0.846326</td>\n",
       "      <td>2</td>\n",
       "    </tr>\n",
       "    <tr>\n",
       "      <th>10930</th>\n",
       "      <td>0</td>\n",
       "      <td>88.3</td>\n",
       "      <td>52.8</td>\n",
       "      <td>Open Play</td>\n",
       "      <td>0.010457</td>\n",
       "      <td>0</td>\n",
       "      <td>[{'location': [98.5, 52.5], 'player': {'id': 5...</td>\n",
       "      <td>25.146173</td>\n",
       "      <td>0.194997</td>\n",
       "      <td>3.224706</td>\n",
       "      <td>-1.634769</td>\n",
       "      <td>2</td>\n",
       "    </tr>\n",
       "    <tr>\n",
       "      <th>10931</th>\n",
       "      <td>0</td>\n",
       "      <td>82.2</td>\n",
       "      <td>24.4</td>\n",
       "      <td>Open Play</td>\n",
       "      <td>0.022750</td>\n",
       "      <td>0</td>\n",
       "      <td>[{'location': [96.0, 29.9], 'player': {'id': 5...</td>\n",
       "      <td>24.738634</td>\n",
       "      <td>0.271903</td>\n",
       "      <td>3.208366</td>\n",
       "      <td>-1.302308</td>\n",
       "      <td>2</td>\n",
       "    </tr>\n",
       "  </tbody>\n",
       "</table>\n",
       "<p>10932 rows × 12 columns</p>\n",
       "</div>"
      ],
      "text/plain": [
       "       head      x     y      phase  statsbombxg  outcome  \\\n",
       "0         0   92.8  49.1  Open Play     0.026399        0   \n",
       "1         0   96.2  33.6  Open Play     0.484256        1   \n",
       "2         0   92.8  33.7  Open Play     0.334151        0   \n",
       "3         0  100.7  41.1  Open Play     0.113160        0   \n",
       "4         1   97.4  34.9  Open Play     0.159821        0   \n",
       "...     ...    ...   ...        ...          ...      ...   \n",
       "10927     1  100.4  26.4  Open Play     0.063692        0   \n",
       "10928     0   94.0  22.2  Open Play     0.050016        0   \n",
       "10929     0   89.9  39.2  Open Play     0.034740        0   \n",
       "10930     0   88.3  52.8  Open Play     0.010457        0   \n",
       "10931     0   82.2  24.4  Open Play     0.022750        0   \n",
       "\n",
       "                                            freeze_frame   distance     angle  \\\n",
       "0      [{'location': [100.7, 40.9], 'player': {'id': ...  19.412625  0.240936   \n",
       "1      [{'location': [110.1, 36.8], 'player': {'id': ...   8.809086  0.787043   \n",
       "2      [{'location': [103.3, 42.7], 'player': {'id': ...  12.203688  0.582608   \n",
       "3      [{'location': [115.9, 46.8], 'player': {'id': ...   8.300602  0.515870   \n",
       "4      [{'location': [108.2, 52.1], 'player': {'id': ...   7.653104  0.888768   \n",
       "...                                                  ...        ...       ...   \n",
       "10927  [{'location': [96.2, 34.9], 'player': {'id': 6...   8.883693  0.474694   \n",
       "10928  [{'location': [109.7, 29.3], 'player': {'id': ...  16.131956  0.315315   \n",
       "10929  [{'location': [101.2, 33.8], 'player': {'id': ...  15.970285  0.428988   \n",
       "10930  [{'location': [98.5, 52.5], 'player': {'id': 5...  25.146173  0.194997   \n",
       "10931  [{'location': [96.0, 29.9], 'player': {'id': 5...  24.738634  0.271903   \n",
       "\n",
       "        logdist  logangle  defenders_in_area  \n",
       "0      2.965924 -1.423224                  1  \n",
       "1      2.175784 -0.239472                  1  \n",
       "2      2.501738 -0.540240                  1  \n",
       "3      2.116328 -0.661901                  2  \n",
       "4      2.035111 -0.117919                  3  \n",
       "...         ...       ...                ...  \n",
       "10927  2.184217 -0.745085                  3  \n",
       "10928  2.780802 -1.154185                  2  \n",
       "10929  2.770730 -0.846326                  2  \n",
       "10930  3.224706 -1.634769                  2  \n",
       "10931  3.208366 -1.302308                  2  \n",
       "\n",
       "[10932 rows x 12 columns]"
      ]
     },
     "execution_count": 22,
     "metadata": {},
     "output_type": "execute_result"
    }
   ],
   "source": [
    "shots"
   ]
  },
  {
   "cell_type": "markdown",
   "metadata": {},
   "source": [
    "## Fitting and evaluation"
   ]
  },
  {
   "cell_type": "code",
   "execution_count": 8,
   "metadata": {},
   "outputs": [],
   "source": [
    "from sklearn.model_selection import train_test_split\n",
    "from sklearn.linear_model import LogisticRegression\n",
    "from sklearn.pipeline import make_pipeline\n",
    "from sklearn.preprocessing import StandardScaler\n",
    "from sklearn.metrics import brier_score_loss, roc_auc_score\n",
    "\n",
    "train_set, test_set = train_test_split(shots, test_size=0.2, random_state=9)"
   ]
  },
  {
   "cell_type": "code",
   "execution_count": 9,
   "metadata": {},
   "outputs": [
    {
     "data": {
      "text/plain": [
       "(8745, 2187)"
      ]
     },
     "execution_count": 9,
     "metadata": {},
     "output_type": "execute_result"
    }
   ],
   "source": [
    "len(train_set), len(test_set)"
   ]
  },
  {
   "cell_type": "code",
   "execution_count": 22,
   "metadata": {},
   "outputs": [
    {
     "name": "stdout",
     "output_type": "stream",
     "text": [
      "Accuracy: 0.00\n"
     ]
    }
   ],
   "source": [
    "#features = ['x', 'y']\n",
    "\n",
    "#features = ['distance_to_goal', 'goal_angle']\n",
    "features = ['x', 'y', 'distance', 'angle', 'defenders_in_area']\n",
    "\n",
    "X_train = train_set[features]\n",
    "y_train = train_set.outcome\n",
    "X_test = test_set[features]\n",
    "y_test = test_set.outcome\n",
    "\n",
    "pipe = make_pipeline(StandardScaler(), LogisticRegression())\n",
    "pipe.fit(X_train, y_train)\n",
    "\n",
    "predictions = pipe.predict_proba(X_test)[:, 1]\n",
    "accuracy = (predictions == y_test).mean()\n",
    "print(f'Accuracy: {accuracy:.2f}')"
   ]
  },
  {
   "cell_type": "code",
   "execution_count": 23,
   "metadata": {},
   "outputs": [
    {
     "data": {
      "text/plain": [
       "[<matplotlib.lines.Line2D at 0x7f8b1d8b6e50>]"
      ]
     },
     "execution_count": 23,
     "metadata": {},
     "output_type": "execute_result"
    },
    {
     "data": {
      "image/png": "[encoded data removed]",
      "text/plain": [
       "<Figure size 432x288 with 1 Axes>"
      ]
     },
     "metadata": {
      "needs_background": "light"
     },
     "output_type": "display_data"
    }
   ],
   "source": [
    "\n",
    "plt.plot(sorted(test_set.statsbombxg))"
   ]
  },
  {
   "cell_type": "code",
   "execution_count": 24,
   "metadata": {},
   "outputs": [
    {
     "data": {
      "text/plain": [
       "[<matplotlib.lines.Line2D at 0x7f8b1d885d00>]"
      ]
     },
     "execution_count": 24,
     "metadata": {},
     "output_type": "execute_result"
    },
    {
     "data": {
      "image/png": "[encoded data removed]",
      "text/plain": [
       "<Figure size 432x288 with 1 Axes>"
      ]
     },
     "metadata": {
      "needs_background": "light"
     },
     "output_type": "display_data"
    }
   ],
   "source": [
    "\n",
    "plt.plot(sorted(predictions))"
   ]
  },
  {
   "cell_type": "code",
   "execution_count": 25,
   "metadata": {},
   "outputs": [
    {
     "data": {
      "text/plain": [
       "['model.joblib']"
      ]
     },
     "execution_count": 25,
     "metadata": {},
     "output_type": "execute_result"
    }
   ],
   "source": [
    "from joblib import dump, load\n",
    "dump(pipe, 'model.joblib') "
   ]
  },
  {
   "cell_type": "code",
   "execution_count": 13,
   "metadata": {},
   "outputs": [],
   "source": [
    "from sklearn.calibration import CalibratedClassifierCV\n",
    "def eval_features(model, features, train_set, test_set):\n",
    "    sbxg = test_set.statsbombxg\n",
    "    sb_outcome = 1 * (sbxg > 0.5)\n",
    "    \n",
    "    X_train = train_set[features]\n",
    "    y_train = train_set.outcome\n",
    "    X_test = test_set[features]\n",
    "    y_test = test_set.outcome\n",
    "    \n",
    "    #pipe = make_pipeline(StandardScaler(), LogisticRegression())\n",
    "    #model.fit(X_train, y_train)\n",
    "    calibrated_clf = CalibratedClassifierCV(base_estimator=model, cv=3)\n",
    "    calibrated_clf.fit(X_train, y_train)\n",
    "    \n",
    "    #model = XGBClassifier(n_jobs=-1)\n",
    "    #model.fit(X_train, y_train)\n",
    "    \n",
    "    predictions = calibrated_clf.predict(X_test)\n",
    "    accuracy = (predictions == y_test).mean()\n",
    "    print(f'Accuracy: {accuracy:.2f}')\n",
    "    sb_acc = (sb_outcome == y_test).mean()\n",
    "    \n",
    "    prob_predictions = calibrated_clf.predict_proba(X_test)[:, 1]\n",
    "    brier_score = brier_score_loss(y_test, prob_predictions)\n",
    "    print(f'Brier Score: {brier_score:.2f}')\n",
    "    sb_brier = brier_score_loss(y_test, sbxg)\n",
    "    \n",
    "    auc_score = roc_auc_score(y_test, prob_predictions)\n",
    "    print(f'AUC score: {auc_score:.2f}')\n",
    "    \n",
    "    auc_score = roc_auc_score(y_test, sbxg)\n",
    "    print(f'Statsbomb accuracy: {sb_acc:.2f}')\n",
    "    print(f'Statsbomb Brier Score: {sb_brier:.2f}')\n",
    "    print(f'Statsbomb AUC score: {auc_score:.2f}')\n",
    "    print()"
   ]
  },
  {
   "cell_type": "code",
   "execution_count": 14,
   "metadata": {},
   "outputs": [
    {
     "name": "stdout",
     "output_type": "stream",
     "text": [
      "Accuracy: 0.87\n",
      "Brier Score: 0.11\n",
      "AUC score: 0.69\n",
      "Statsbomb accuracy: 0.88\n",
      "Statsbomb Brier Score: 0.09\n",
      "Statsbomb AUC score: 0.82\n",
      "\n",
      "Accuracy: 0.87\n",
      "Brier Score: 0.10\n",
      "AUC score: 0.74\n",
      "Statsbomb accuracy: 0.88\n",
      "Statsbomb Brier Score: 0.09\n",
      "Statsbomb AUC score: 0.82\n",
      "\n",
      "Accuracy: 0.87\n",
      "Brier Score: 0.10\n",
      "AUC score: 0.75\n",
      "Statsbomb accuracy: 0.88\n",
      "Statsbomb Brier Score: 0.09\n",
      "Statsbomb AUC score: 0.82\n",
      "\n",
      "Accuracy: 0.88\n",
      "Brier Score: 0.10\n",
      "AUC score: 0.77\n",
      "Statsbomb accuracy: 0.88\n",
      "Statsbomb Brier Score: 0.09\n",
      "Statsbomb AUC score: 0.82\n",
      "\n"
     ]
    }
   ],
   "source": [
    "features = ['x', 'y']\n",
    "eval_features(pipe, features, train_set, test_set)\n",
    "features = ['distance', 'angle']\n",
    "eval_features(pipe, features, train_set, test_set)\n",
    "features = ['x', 'y', 'distance', 'angle']\n",
    "eval_features(pipe, features, train_set, test_set)\n",
    "features = ['x', 'y', 'distance', 'angle', 'defenders_in_area']\n",
    "eval_features(pipe, features, train_set, test_set)"
   ]
  },
  {
   "cell_type": "code",
   "execution_count": 15,
   "metadata": {},
   "outputs": [],
   "source": [
    "from xgboost import XGBClassifier"
   ]
  },
  {
   "cell_type": "code",
   "execution_count": 20,
   "metadata": {},
   "outputs": [],
   "source": [
    "model = XGBClassifier(n_estimators=50, max_depth=3, n_jobs=-1)"
   ]
  },
  {
   "cell_type": "code",
   "execution_count": 21,
   "metadata": {},
   "outputs": [
    {
     "name": "stdout",
     "output_type": "stream",
     "text": [
      "Accuracy: 0.88\n",
      "Brier Score: 0.10\n",
      "AUC score: 0.78\n",
      "Statsbomb accuracy: 0.88\n",
      "Statsbomb Brier Score: 0.09\n",
      "Statsbomb AUC score: 0.82\n",
      "\n"
     ]
    }
   ],
   "source": [
    "eval_features(model, features, train_set, test_set)"
   ]
  },
  {
   "cell_type": "code",
   "execution_count": null,
   "metadata": {},
   "outputs": [],
   "source": [
    "model.save_model('fov.model')"
   ]
  }
 ],
 "metadata": {
  "kernelspec": {
   "display_name": "Python 3",
   "language": "python",
   "name": "python3"
  },
  "language_info": {
   "codemirror_mode": {
    "name": "ipython",
    "version": 3
   },
   "file_extension": ".py",
   "mimetype": "text/x-python",
   "name": "python",
   "nbconvert_exporter": "python",
   "pygments_lexer": "ipython3",
   "version": "3.8.3"
  }
 },
 "nbformat": 4,
 "nbformat_minor": 4
}
